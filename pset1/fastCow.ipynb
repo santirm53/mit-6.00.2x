{
 "cells": [
  {
   "cell_type": "code",
   "execution_count": 1,
   "id": "e746ee09",
   "metadata": {},
   "outputs": [],
   "source": [
    "cows = {'Maggie': '3', ' Herman': '7', ' Betsy': '9', ' Oreo': '6', ' Moo Moo': '3', ' Milkshake': '2', ' Millie': '5', ' Lola': '2', ' Florence': '2', ' Henrietta': '9'}"
   ]
  },
  {
   "cell_type": "code",
   "execution_count": 2,
   "id": "b3b7bf5c",
   "metadata": {},
   "outputs": [
    {
     "name": "stdout",
     "output_type": "stream",
     "text": [
      "{'Maggie': '3', ' Herman': '7', ' Betsy': '9', ' Oreo': '6', ' Moo Moo': '3', ' Milkshake': '2', ' Millie': '5', ' Lola': '2', ' Florence': '2', ' Henrietta': '9'}\n"
     ]
    }
   ],
   "source": [
    "print(cows)"
   ]
  },
  {
   "cell_type": "code",
   "execution_count": 3,
   "id": "3f68cb71",
   "metadata": {},
   "outputs": [],
   "source": [
    "sorted_dict = sorted(cows.items(), key=lambda x: x[1], reverse=True)"
   ]
  },
  {
   "cell_type": "code",
   "execution_count": 4,
   "id": "af6fe08d",
   "metadata": {},
   "outputs": [
    {
     "name": "stdout",
     "output_type": "stream",
     "text": [
      "[(' Betsy', '9'), (' Henrietta', '9'), (' Herman', '7'), (' Oreo', '6'), (' Millie', '5'), ('Maggie', '3'), (' Moo Moo', '3'), (' Milkshake', '2'), (' Lola', '2'), (' Florence', '2')]\n"
     ]
    }
   ],
   "source": [
    "print(sorted_dict)"
   ]
  },
  {
   "cell_type": "code",
   "execution_count": 5,
   "id": "3167b8fd",
   "metadata": {},
   "outputs": [],
   "source": [
    "cows_keys = []\n",
    "cows_values = []\n",
    "\n",
    "for i in sorted_dict:\n",
    "    cows_keys.append(i[0])\n",
    "    cows_values.append(int(i[1]))"
   ]
  },
  {
   "cell_type": "code",
   "execution_count": 6,
   "id": "3a68ff2f",
   "metadata": {},
   "outputs": [
    {
     "name": "stdout",
     "output_type": "stream",
     "text": [
      "[' Betsy', ' Henrietta', ' Herman', ' Oreo', ' Millie', 'Maggie', ' Moo Moo', ' Milkshake', ' Lola', ' Florence']\n",
      "[9, 9, 7, 6, 5, 3, 3, 2, 2, 2]\n"
     ]
    }
   ],
   "source": [
    "print(cows_keys)\n",
    "print(cows_values)"
   ]
  },
  {
   "cell_type": "code",
   "execution_count": 9,
   "id": "8f25ba53",
   "metadata": {},
   "outputs": [],
   "source": [
    "total_trips = []\n",
    "trip = []\n",
    "limit = 10     "
   ]
  },
  {
   "cell_type": "code",
   "execution_count": 8,
   "id": "4585aad5",
   "metadata": {},
   "outputs": [
    {
     "name": "stdout",
     "output_type": "stream",
     "text": [
      "[]\n"
     ]
    }
   ],
   "source": []
  }
 ],
 "metadata": {
  "kernelspec": {
   "display_name": "Python 3 (ipykernel)",
   "language": "python",
   "name": "python3"
  },
  "language_info": {
   "codemirror_mode": {
    "name": "ipython",
    "version": 3
   },
   "file_extension": ".py",
   "mimetype": "text/x-python",
   "name": "python",
   "nbconvert_exporter": "python",
   "pygments_lexer": "ipython3",
   "version": "3.10.7"
  }
 },
 "nbformat": 4,
 "nbformat_minor": 5
}
